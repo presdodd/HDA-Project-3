{
 "cells": [
  {
   "cell_type": "code",
   "execution_count": 5,
   "metadata": {},
   "outputs": [],
   "source": [
    "import os\n",
    "import glob\n",
    "import xml.etree.ElementTree as ET\n",
    "import re\n",
    "import pandas as pd\n",
    "from collections import Counter"
   ]
  },
  {
   "cell_type": "code",
   "execution_count": 6,
   "metadata": {},
   "outputs": [],
   "source": [
    "directory = 'Project3_data'\n",
    "xml_files = glob.glob(os.path.join(directory, '*.xml'))\n",
    "vital_signs_pattern = {}\n",
    "smoker_df = pd.DataFrame(columns=['patient_number', 'smoker_status'])\n",
    "\n",
    "\n",
    "files_with_vital_signs = []\n",
    "for xml_file in xml_files:\n",
    "    ## file_number = os.path.basename(xml_file).replace('.xml', '')\n",
    "    patient_number = re.search(r'(\\d+)-', os.path.basename(xml_file)).group(1)\n",
    "    tree = ET.parse(xml_file)\n",
    "    root = tree.getroot()\n",
    "    for smoker in root.findall('.//SMOKER'):\n",
    "        smoker_status = smoker.get('status')\n",
    "        row_df = pd.DataFrame([{'patient_number': patient_number, 'smoker_status': smoker_status}])\n",
    "        smoker_df = pd.concat([smoker_df, row_df], ignore_index=True)\n",
    "\n",
    "smoker_df.to_csv('smoker.csv', index=False)"
   ]
  },
  {
   "cell_type": "code",
   "execution_count": 7,
   "metadata": {},
   "outputs": [
    {
     "data": {
      "text/plain": [
       "array(['never', 'unknown', 'current', 'past', 'ever'], dtype=object)"
      ]
     },
     "execution_count": 7,
     "metadata": {},
     "output_type": "execute_result"
    }
   ],
   "source": [
    "smoker_df = smoker_df.drop_duplicates(subset=['patient_number', 'smoker_status'])\n",
    "len(smoker_df)\n",
    "## sort by patient_number and create csv\n",
    "smoker_df = smoker_df.sort_values(by='patient_number')\n",
    "smoker_df['smoker_status'].unique()"
   ]
  },
  {
   "cell_type": "code",
   "execution_count": 8,
   "metadata": {},
   "outputs": [
    {
     "name": "stdout",
     "output_type": "stream",
     "text": [
      "['current' 'unknown' 'never' 'past']\n"
     ]
    }
   ],
   "source": [
    "# Define the hierarchy\n",
    "# ['past', 'current', 'unknown', 'never', 'smoker_status']\n",
    "status_hierarchy = {'current': 1, 'past': 2, 'ever': 3, 'never': 4, 'unknown': 5}\n",
    "\n",
    "i = 0\n",
    "while i < len(smoker_df):\n",
    "  cur_patient_number = smoker_df.iloc[i]['patient_number']\n",
    "  status_array = []\n",
    "  start_index = i\n",
    "  while i < len(smoker_df) and smoker_df.iloc[i]['patient_number'] == cur_patient_number:\n",
    "      status_array.append(smoker_df.iloc[i]['smoker_status'])\n",
    "      i += 1\n",
    "  status_array.sort(key=lambda x: status_hierarchy[x])\n",
    "  if status_array[0] == 'ever':\n",
    "      print('hello')\n",
    "  smoker_df.loc[smoker_df['patient_number'] == cur_patient_number, 'smoker_status'] = status_array[0]\n",
    "\n",
    "smoker_df = smoker_df.drop_duplicates()\n",
    "print(smoker_df['smoker_status'].unique())\n",
    "smoker_df.to_csv('smoker.csv', index=False)"
   ]
  }
 ],
 "metadata": {
  "kernelspec": {
   "display_name": "base",
   "language": "python",
   "name": "python3"
  },
  "language_info": {
   "codemirror_mode": {
    "name": "ipython",
    "version": 3
   },
   "file_extension": ".py",
   "mimetype": "text/x-python",
   "name": "python",
   "nbconvert_exporter": "python",
   "pygments_lexer": "ipython3",
   "version": "3.11.4"
  }
 },
 "nbformat": 4,
 "nbformat_minor": 2
}
