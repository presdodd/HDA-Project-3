{
 "cells": [
  {
   "cell_type": "markdown",
   "metadata": {},
   "source": [
    "#### Provide a frequency distribution of the vital signs/physical exam readings observed across the dataset"
   ]
  },
  {
   "cell_type": "code",
   "execution_count": 8,
   "metadata": {},
   "outputs": [],
   "source": [
    "import os\n",
    "import glob\n",
    "import xml.etree.ElementTree as ET\n",
    "import re\n",
    "import pandas as pd\n",
    "from collections import Counter"
   ]
  },
  {
   "cell_type": "code",
   "execution_count": 2,
   "metadata": {},
   "outputs": [
    {
     "name": "stdout",
     "output_type": "stream",
     "text": [
      "{'VITAL SIGNS': ['Project3_data/379-03.xml', 'Project3_data/316-02.xml', 'Project3_data/222-03.xml', 'Project3_data/162-03.xml', 'Project3_data/154-03.xml', 'Project3_data/113-02.xml', 'Project3_data/263-02.xml', 'Project3_data/300-02.xml', 'Project3_data/144-01.xml', 'Project3_data/324-03.xml', 'Project3_data/127-01.xml', 'Project3_data/347-02.xml', 'Project3_data/103-01.xml', 'Project3_data/300-01.xml', 'Project3_data/183-05.xml', 'Project3_data/103-02.xml', 'Project3_data/395-02.xml', 'Project3_data/366-01.xml', 'Project3_data/395-01.xml', 'Project3_data/266-02.xml', 'Project3_data/120-04.xml', 'Project3_data/266-03.xml', 'Project3_data/215-02.xml', 'Project3_data/116-01.xml', 'Project3_data/264-01.xml', 'Project3_data/274-04.xml', 'Project3_data/266-04.xml', 'Project3_data/120-03.xml', 'Project3_data/344-02.xml', 'Project3_data/112-01.xml', 'Project3_data/281-03.xml', 'Project3_data/311-01.xml', 'Project3_data/171-03.xml', 'Project3_data/213-04.xml', 'Project3_data/254-01.xml', 'Project3_data/157-02.xml', 'Project3_data/173-03.xml', 'Project3_data/213-01.xml', 'Project3_data/213-03.xml', 'Project3_data/362-02.xml', 'Project3_data/370-02.xml', 'Project3_data/192-03.xml'], 'vital signs': ['Project3_data/119-01.xml', 'Project3_data/107-01.xml', 'Project3_data/316-02.xml', 'Project3_data/131-01.xml', 'Project3_data/107-02.xml', 'Project3_data/131-02.xml', 'Project3_data/265-01.xml', 'Project3_data/267-04.xml', 'Project3_data/396-01.xml', 'Project3_data/241-03.xml', 'Project3_data/113-02.xml', 'Project3_data/382-04.xml', 'Project3_data/158-04.xml', 'Project3_data/380-04.xml', 'Project3_data/181-02.xml', 'Project3_data/148-02.xml', 'Project3_data/127-03.xml', 'Project3_data/111-02.xml', 'Project3_data/382-03.xml', 'Project3_data/345-04.xml', 'Project3_data/103-02.xml', 'Project3_data/338-04.xml', 'Project3_data/350-03.xml', 'Project3_data/165-04.xml', 'Project3_data/352-02.xml', 'Project3_data/385-02.xml', 'Project3_data/352-01.xml', 'Project3_data/285-03.xml', 'Project3_data/311-03.xml', 'Project3_data/173-05.xml', 'Project3_data/136-03.xml', 'Project3_data/346-04.xml', 'Project3_data/254-04.xml', 'Project3_data/354-01.xml', 'Project3_data/362-01.xml', 'Project3_data/329-03.xml'], 'Vital Signs': ['Project3_data/304-03.xml', 'Project3_data/251-02.xml', 'Project3_data/316-03.xml', 'Project3_data/168-01.xml', 'Project3_data/308-02.xml', 'Project3_data/384-04.xml', 'Project3_data/178-05.xml', 'Project3_data/152-01.xml', 'Project3_data/388-04.xml', 'Project3_data/386-01.xml', 'Project3_data/131-01.xml', 'Project3_data/304-02.xml', 'Project3_data/277-05.xml', 'Project3_data/189-01.xml', 'Project3_data/220-01.xml', 'Project3_data/320-01.xml', 'Project3_data/308-01.xml', 'Project3_data/168-03.xml', 'Project3_data/214-04.xml', 'Project3_data/152-02.xml', 'Project3_data/164-03.xml', 'Project3_data/131-02.xml', 'Project3_data/117-02.xml', 'Project3_data/400-04.xml', 'Project3_data/251-04.xml', 'Project3_data/185-04.xml', 'Project3_data/396-03.xml', 'Project3_data/178-02.xml', 'Project3_data/220-04.xml', 'Project3_data/308-04.xml', 'Project3_data/220-05.xml', 'Project3_data/316-04.xml', 'Project3_data/214-01.xml', 'Project3_data/396-02.xml', 'Project3_data/119-04.xml', 'Project3_data/277-03.xml', 'Project3_data/178-01.xml', 'Project3_data/306-03.xml', 'Project3_data/386-04.xml', 'Project3_data/119-05.xml', 'Project3_data/210-01.xml', 'Project3_data/200-04.xml', 'Project3_data/137-03.xml', 'Project3_data/181-04.xml', 'Project3_data/236-04.xml', 'Project3_data/338-03.xml', 'Project3_data/210-02.xml', 'Project3_data/349-03.xml', 'Project3_data/234-02.xml', 'Project3_data/373-03.xml', 'Project3_data/226-02.xml', 'Project3_data/210-03.xml', 'Project3_data/363-02.xml', 'Project3_data/170-05.xml', 'Project3_data/392-04.xml', 'Project3_data/255-03.xml', 'Project3_data/200-02.xml', 'Project3_data/137-04.xml', 'Project3_data/162-04.xml', 'Project3_data/193-02.xml', 'Project3_data/355-02.xml', 'Project3_data/363-03.xml', 'Project3_data/338-05.xml', 'Project3_data/373-04.xml', 'Project3_data/226-05.xml', 'Project3_data/135-02.xml', 'Project3_data/135-02.xml', 'Project3_data/200-01.xml', 'Project3_data/139-02.xml', 'Project3_data/290-03.xml', 'Project3_data/349-04.xml', 'Project3_data/234-04.xml', 'Project3_data/193-01.xml', 'Project3_data/226-04.xml', 'Project3_data/177-03.xml', 'Project3_data/352-05.xml', 'Project3_data/323-05.xml', 'Project3_data/299-02.xml', 'Project3_data/215-04.xml', 'Project3_data/340-04.xml', 'Project3_data/141-03.xml', 'Project3_data/177-02.xml', 'Project3_data/342-03.xml', 'Project3_data/321-03.xml', 'Project3_data/209-02.xml', 'Project3_data/387-01.xml', 'Project3_data/305-03.xml', 'Project3_data/385-05.xml', 'Project3_data/342-02.xml', 'Project3_data/151-05.xml', 'Project3_data/177-05.xml', 'Project3_data/376-02.xml', 'Project3_data/376-03.xml', 'Project3_data/395-05.xml', 'Project3_data/331-02.xml', 'Project3_data/364-01.xml', 'Project3_data/196-05.xml', 'Project3_data/376-01.xml', 'Project3_data/315-01.xml', 'Project3_data/397-02.xml', 'Project3_data/397-03.xml', 'Project3_data/184-04.xml', 'Project3_data/278-05.xml', 'Project3_data/385-03.xml', 'Project3_data/196-04.xml', 'Project3_data/342-04.xml', 'Project3_data/242-04.xml', 'Project3_data/151-03.xml', 'Project3_data/331-01.xml', 'Project3_data/110-04.xml', 'Project3_data/348-02.xml', 'Project3_data/391-05.xml', 'Project3_data/383-05.xml', 'Project3_data/244-03.xml', 'Project3_data/339-03.xml', 'Project3_data/391-04.xml', 'Project3_data/235-03.xml', 'Project3_data/260-02.xml', 'Project3_data/256-03.xml', 'Project3_data/358-04.xml', 'Project3_data/335-01.xml', 'Project3_data/348-01.xml', 'Project3_data/244-01.xml', 'Project3_data/393-03.xml', 'Project3_data/329-04.xml', 'Project3_data/354-04.xml', 'Project3_data/313-04.xml', 'Project3_data/260-01.xml', 'Project3_data/203-01.xml', 'Project3_data/325-01.xml', 'Project3_data/348-04.xml', 'Project3_data/157-03.xml', 'Project3_data/244-04.xml', 'Project3_data/383-02.xml', 'Project3_data/348-05.xml', 'Project3_data/346-02.xml', 'Project3_data/293-05.xml', 'Project3_data/346-03.xml', 'Project3_data/358-03.xml'], 'Vital signs': ['Project3_data/174-04.xml', 'Project3_data/243-02.xml', 'Project3_data/220-02.xml', 'Project3_data/220-03.xml', 'Project3_data/174-05.xml', 'Project3_data/351-03.xml', 'Project3_data/386-03.xml', 'Project3_data/343-01.xml', 'Project3_data/394-02.xml', 'Project3_data/298-05.xml', 'Project3_data/286-04.xml', 'Project3_data/222-03.xml', 'Project3_data/113-03.xml', 'Project3_data/162-02.xml', 'Project3_data/324-04.xml', 'Project3_data/193-04.xml', 'Project3_data/113-02.xml', 'Project3_data/238-01.xml', 'Project3_data/139-04.xml', 'Project3_data/183-03.xml', 'Project3_data/156-05.xml', 'Project3_data/200-03.xml', 'Project3_data/371-01.xml', 'Project3_data/234-05.xml', 'Project3_data/359-01.xml', 'Project3_data/374-01.xml', 'Project3_data/307-04.xml', 'Project3_data/299-03.xml', 'Project3_data/395-03.xml', 'Project3_data/342-01.xml', 'Project3_data/186-04.xml', 'Project3_data/217-02.xml', 'Project3_data/385-04.xml', 'Project3_data/378-02.xml', 'Project3_data/120-05.xml', 'Project3_data/184-02.xml', 'Project3_data/104-04.xml', 'Project3_data/385-01.xml', 'Project3_data/223-03.xml', 'Project3_data/397-01.xml', 'Project3_data/340-02.xml', 'Project3_data/276-03.xml', 'Project3_data/186-02.xml', 'Project3_data/215-01.xml', 'Project3_data/323-01.xml', 'Project3_data/235-02.xml', 'Project3_data/157-05.xml', 'Project3_data/339-02.xml', 'Project3_data/112-01.xml', 'Project3_data/311-02.xml', 'Project3_data/344-03.xml', 'Project3_data/157-04.xml', 'Project3_data/126-04.xml', 'Project3_data/136-01.xml', 'Project3_data/346-04.xml', 'Project3_data/313-01.xml', 'Project3_data/258-02.xml', 'Project3_data/171-04.xml', 'Project3_data/291-01.xml', 'Project3_data/313-02.xml', 'Project3_data/145-01.xml']}\n"
     ]
    }
   ],
   "source": [
    "## Finding all patterns of vital signs in the text\n",
    "\n",
    "directory = 'Project3_data'\n",
    "xml_files = glob.glob(os.path.join(directory, '*.xml'))\n",
    "vital_signs_pattern = {}\n",
    "count = 0\n",
    "files_with_vital_signs = []\n",
    "for xml_file in xml_files:\n",
    "    tree = ET.parse(xml_file)\n",
    "    root = tree.getroot()\n",
    "\n",
    "    for elem in root.iter('TEXT'):\n",
    "        if elem.text:\n",
    "            matches = re.findall(r'\\b(vital signs|Vital Signs|VITAL SIGNS|Vital signs|VITAL signs)\\b', elem.text)\n",
    "            if matches:\n",
    "                files_with_vital_signs.append(xml_file)\n",
    "            # vital_signs_pattern.update(matches)\n",
    "            if matches:\n",
    "                for match in matches:\n",
    "                    if match in vital_signs_pattern:\n",
    "                        vital_signs_pattern[match].append(xml_file)\n",
    "                    else:\n",
    "                        vital_signs_pattern[match] = [xml_file]\n",
    "\n",
    "print(vital_signs_pattern)\n",
    "## Counter({'Vital Signs': 139, 'Vital signs': 61, 'VITAL SIGNS': 42, 'vital signs': 36})\n"
   ]
  },
  {
   "cell_type": "code",
   "execution_count": 26,
   "metadata": {},
   "outputs": [
    {
     "name": "stdout",
     "output_type": "stream",
     "text": [
      "file Project3_data/119-01.xml\n",
      "file Project3_data/107-01.xml\n",
      "file Project3_data/316-02.xml\n",
      "file Project3_data/131-01.xml\n",
      "file Project3_data/107-02.xml\n"
     ]
    }
   ],
   "source": [
    "for key, value in vital_signs_pattern.items():\n",
    "    count = 0\n",
    "    if key == 'vital signs':\n",
    "        for file in value:\n",
    "            tree = ET.parse(file)\n",
    "            root = tree.getroot()\n",
    "            vital_signs = []\n",
    "            match_found = False\n",
    "            for elem in root.iter('TEXT'):\n",
    "                if elem.text:\n",
    "                    if count < 5:\n",
    "                        print('file', file)\n",
    "                        count += 1"
   ]
  },
  {
   "cell_type": "code",
   "execution_count": 17,
   "metadata": {},
   "outputs": [
    {
     "name": "stdout",
     "output_type": "stream",
     "text": [
      "No matches found in file: Project3_data/316-02.xml\n",
      "No matches found in file: Project3_data/222-03.xml\n",
      "No matches found in file: Project3_data/144-01.xml\n",
      "No matches found in file: Project3_data/324-03.xml\n",
      "No matches found in file: Project3_data/127-01.xml\n",
      "No matches found in file: Project3_data/103-02.xml\n",
      "No matches found in file: Project3_data/395-02.xml\n",
      "No matches found in file: Project3_data/264-01.xml\n",
      "No matches found in file: Project3_data/112-01.xml\n",
      "No matches found in file: Project3_data/157-02.xml\n",
      "No matches found in file: Project3_data/192-03.xml\n",
      "{'temperature': 15, 'pulse': 20, 'respiratory rate': 11, 'blood pressure': 22, 'oxygen saturation': 4}\n"
     ]
    }
   ],
   "source": [
    "# Define the patterns for the vital signs\n",
    "vital_signs_patterns = {\n",
    "    'temperature': r'Temperature (\\d+)',\n",
    "    'pulse': r'Pulse (\\d+)',\n",
    "    'respiratory rate': r'respiratory rate (\\d+)',\n",
    "    'blood pressure': r'(blood pressure|BP) (\\d+/\\d+)',\n",
    "    'oxygen saturation': r'Oxygen saturation (\\d+%)',\n",
    "}\n",
    "\n",
    "frequency = {sign: 0 for sign in vital_signs_patterns.keys()}\n",
    "no_matches_found = []\n",
    "for key, value in vital_signs_pattern.items():\n",
    "    count = 0\n",
    "    if key == 'VITAL SIGNS':\n",
    "        for file in value:\n",
    "            tree = ET.parse(file)\n",
    "            root = tree.getroot()\n",
    "            vital_signs = []\n",
    "            match_found = False\n",
    "            for elem in root.iter('TEXT'):\n",
    "                if elem.text:\n",
    "                    for sign, pattern in vital_signs_patterns.items():\n",
    "                        matches = re.findall(pattern, elem.text, re.IGNORECASE)\n",
    "                        if matches:\n",
    "                            frequency[sign] += 1\n",
    "                            vital_signs.append({'sign': sign, 'value': matches[0]})\n",
    "                            match_found = True\n",
    "            vitalSign_df = pd.DataFrame(vital_signs)\n",
    "            if not match_found:\n",
    "                no_matches_found.append(file)\n",
    "                print(f'No matches found in file: {file}')\n",
    "\n",
    "print(frequency)\n"
   ]
  },
  {
   "cell_type": "code",
   "execution_count": 23,
   "metadata": {},
   "outputs": [
    {
     "data": {
      "text/plain": [
       "11"
      ]
     },
     "execution_count": 23,
     "metadata": {},
     "output_type": "execute_result"
    }
   ],
   "source": [
    "len(no_matches_found)"
   ]
  },
  {
   "cell_type": "code",
   "execution_count": 22,
   "metadata": {},
   "outputs": [
    {
     "name": "stdout",
     "output_type": "stream",
     "text": [
      "NO MATCH He is afebrile, vital signs \n",
      "\n",
      "are stable.  GENERAL:\n",
      "NO MATCH Vital signs remained stable, \n",
      "including blood pressure.  HEENT:\n",
      "NO MATCH Normal.  HEENT:\n",
      "NO MATCH Normal.  HEENT:\n",
      "NO MATCH Normal, with the \n",
      "\n",
      "exception of a low grade temperature of 99.7.  HEENT:\n",
      "NO MATCH Afebrile.  Normal vital signs. \n",
      "\n",
      "Bilaterally equal blood pressures.  GENERAL APPEARANCE:\n",
      "NO MATCH Her temperature is 98.  Her \n",
      "\n",
      "normal temperature is about 96.5.  She is not tachycardic.  \n",
      "\n",
      "EXTREMITIES:\n",
      "NO MATCH Stable and normal.  HEENT:\n",
      "NO MATCH The patient is afebrile. \n",
      "Vital signs are normal.  HEENT:\n"
     ]
    }
   ],
   "source": [
    "for file in no_matches_found:\n",
    "    tree = ET.parse(file)\n",
    "    root = tree.getroot()\n",
    "    for elem in root.iter('TEXT'):\n",
    "        match = re.search(r'VITAL SIGNS:  (.*?:)', elem.text, re.IGNORECASE | re.DOTALL)\n",
    "        if match:\n",
    "            vital_signs_text = match.group(1)\n",
    "            print('NO MATCH',vital_signs_text)"
   ]
  }
 ],
 "metadata": {
  "kernelspec": {
   "display_name": "base",
   "language": "python",
   "name": "python3"
  },
  "language_info": {
   "codemirror_mode": {
    "name": "ipython",
    "version": 3
   },
   "file_extension": ".py",
   "mimetype": "text/x-python",
   "name": "python",
   "nbconvert_exporter": "python",
   "pygments_lexer": "ipython3",
   "version": "3.11.4"
  }
 },
 "nbformat": 4,
 "nbformat_minor": 2
}
